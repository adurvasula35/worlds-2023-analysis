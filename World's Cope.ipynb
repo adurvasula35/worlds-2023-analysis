{
 "cells": [
  {
   "cell_type": "code",
   "id": "c18eb950",
   "metadata": {
    "ExecuteTime": {
     "end_time": "2025-08-05T17:59:36.750555Z",
     "start_time": "2025-08-05T17:58:59.771591Z"
    }
   },
   "source": [
    "# Import Statements\n",
    "\n",
    "import csv\n",
    "import pandas as pd\n",
    "import matplotlib.pyplot as plt\n",
    "import numpy as np\n",
    "from IPython.utils.openpy import source_to_unicode\n",
    "from sklearn.linear_model import LinearRegression\n",
    "from sklearn.metrics import r2_score"
   ],
   "outputs": [],
   "execution_count": 1
  },
  {
   "cell_type": "code",
   "id": "3641c10a",
   "metadata": {
    "ExecuteTime": {
     "end_time": "2025-08-05T17:59:36.823047Z",
     "start_time": "2025-08-05T17:59:36.804687Z"
    }
   },
   "source": [
    "# CSV to Dict Function\n",
    "\n",
    "def csv_to_dict(input_file):\n",
    "    file = open(input_file)\n",
    "    reader = csv.reader(file)\n",
    "    data = list(reader)\n",
    "    file.close()\n",
    "    \n",
    "    csv_data = data\n",
    "    csv_header = csv_data[0]\n",
    "    csv_rows = csv_data[1:]\n",
    "    \n",
    "    output_dict = dict()\n",
    "    for idx in range(len(csv_rows)):\n",
    "        output_dict[csv_rows[idx][0]] = csv_rows[idx][1:]\n",
    "    return output_dict"
   ],
   "outputs": [],
   "execution_count": 2
  },
  {
   "cell_type": "code",
   "id": "e3e316ef",
   "metadata": {
    "ExecuteTime": {
     "end_time": "2025-08-05T17:59:36.866081Z",
     "start_time": "2025-08-05T17:59:36.837161Z"
    }
   },
   "source": [
    "# CSV to List Function\n",
    "\n",
    "def csv_to_list(input_file):\n",
    "    file = open(input_file)\n",
    "    reader = csv.reader(file)\n",
    "    data = list(reader)\n",
    "    file.close()\n",
    "    csv_rows = data[1:]\n",
    "    return csv_rows"
   ],
   "outputs": [],
   "execution_count": 3
  },
  {
   "cell_type": "code",
   "id": "5fc2e87c",
   "metadata": {
    "scrolled": true,
    "ExecuteTime": {
     "end_time": "2025-08-05T17:59:37.128738Z",
     "start_time": "2025-08-05T17:59:37.040492Z"
    }
   },
   "source": [
    "# CSVs to Dicts\n",
    "\n",
    "opr_dict = csv_to_dict(\"opr_by_team.csv\")\n",
    "for team in opr_dict:\n",
    "    opr_dict[team] = float(opr_dict[team][0])\n",
    "\n",
    "number_to_name = csv_to_dict(\"number_to_name.csv\")\n",
    "placement_rankings = csv_to_dict(\"placement_rankings.csv\")\n",
    "for team in placement_rankings:\n",
    "    placement_rankings[team] = placement_rankings[team][0]"
   ],
   "outputs": [],
   "execution_count": 4
  },
  {
   "cell_type": "code",
   "id": "debb9076",
   "metadata": {
    "ExecuteTime": {
     "end_time": "2025-08-05T17:59:39.002081Z",
     "start_time": "2025-08-05T17:59:38.955832Z"
    }
   },
   "source": [
    "# CSVs to Lists\n",
    "\n",
    "red_teams = csv_to_list(\"red_matches.csv\")\n",
    "blue_teams = csv_to_list(\"blue_matches.csv\")"
   ],
   "outputs": [],
   "execution_count": 5
  },
  {
   "cell_type": "code",
   "id": "6042bcd4",
   "metadata": {
    "ExecuteTime": {
     "end_time": "2025-08-05T17:59:39.294467Z",
     "start_time": "2025-08-05T17:59:39.269959Z"
    }
   },
   "source": [
    "# Teams to Match Dictionary:\n",
    "\n",
    "match_dict = dict()\n",
    "for idx in range(len(red_teams)):\n",
    "    match_list = list()\n",
    "    match_list.append(red_teams[idx])\n",
    "    match_list.append(blue_teams[idx])\n",
    "    match_dict[\"Match \" + str(idx + 1)] = match_list"
   ],
   "outputs": [],
   "execution_count": 6
  },
  {
   "cell_type": "code",
   "id": "b20eac8f",
   "metadata": {
    "ExecuteTime": {
     "end_time": "2025-08-05T17:59:39.463219Z",
     "start_time": "2025-08-05T17:59:39.439237Z"
    }
   },
   "source": [
    "# Bucketize by Matches Function\n",
    "\n",
    "def bucketize_by_match(team_number):\n",
    "    bucket_list = list()\n",
    "    for match in match_dict:\n",
    "        if team_number in match_dict[match][0] or team_number in match_dict[match][1]:\n",
    "            bucket_list.append(match)\n",
    "    return bucket_list"
   ],
   "outputs": [],
   "execution_count": 7
  },
  {
   "cell_type": "code",
   "id": "185d4a4c",
   "metadata": {
    "ExecuteTime": {
     "end_time": "2025-08-05T17:59:39.635628Z",
     "start_time": "2025-08-05T17:59:39.593286Z"
    }
   },
   "source": [
    "# Average OPR per Team\n",
    "\n",
    "def average_opr(team_number):\n",
    "    adjusted_opr_per_match = dict()\n",
    "    total_opr = 0\n",
    "    count = 0\n",
    "    for match in bucketize_by_match(team_number):\n",
    "        if team_number in match_dict[match][0][0]:\n",
    "            adjusted_opr_per_match[match] = opr_dict[match_dict[match][0][1]] - (opr_dict[match_dict[match][1][0]] + opr_dict[match_dict[match][1][1]])\n",
    "        if team_number in match_dict[match][0][1]:\n",
    "            adjusted_opr_per_match[match] = opr_dict[match_dict[match][0][0]] - (opr_dict[match_dict[match][1][0]] + opr_dict[match_dict[match][1][1]])\n",
    "        if team_number in match_dict[match][1][0]:\n",
    "            adjusted_opr_per_match[match] = opr_dict[match_dict[match][1][1]] - (opr_dict[match_dict[match][0][0]] + opr_dict[match_dict[match][0][1]])\n",
    "        if team_number in match_dict[match][1][1]:\n",
    "            adjusted_opr_per_match[match] = opr_dict[match_dict[match][1][0]] - (opr_dict[match_dict[match][0][0]] + opr_dict[match_dict[match][0][1]])\n",
    "    for match in adjusted_opr_per_match:\n",
    "        total_opr += adjusted_opr_per_match[match]\n",
    "        count += 1\n",
    "    return total_opr/count"
   ],
   "outputs": [],
   "execution_count": 8
  },
  {
   "cell_type": "code",
   "id": "21eb9b52",
   "metadata": {
    "scrolled": true,
    "ExecuteTime": {
     "end_time": "2025-08-05T17:59:39.773603Z",
     "start_time": "2025-08-05T17:59:39.762616Z"
    }
   },
   "source": [
    "# Average OPR dictionary\n",
    "\n",
    "average_opr_dict = dict()\n",
    "for team in opr_dict:\n",
    "    average_opr_dict[team] = average_opr(team)\n",
    "average_opr_dict = sorted(average_opr_dict.items(), key=lambda x:x[1], reverse = True)"
   ],
   "outputs": [],
   "execution_count": 9
  },
  {
   "cell_type": "code",
   "id": "7163defe",
   "metadata": {
    "ExecuteTime": {
     "end_time": "2025-08-05T17:59:39.978250Z",
     "start_time": "2025-08-05T17:59:39.941840Z"
    }
   },
   "source": [
    "# Full Rankings OPR Dict\n",
    "\n",
    "ranked_average_opr_dict = dict()\n",
    "count = 0\n",
    "rank = 1\n",
    "for team in average_opr_dict:\n",
    "    team_list = list()\n",
    "    team_list = [team[0], number_to_name[team[0]][0], average_opr_dict[count][1], placement_rankings[team[0]], rank]\n",
    "    ranked_average_opr_dict[str(rank)] = team_list\n",
    "    rank += 1\n",
    "    count += 1\n",
    "pretty_ranked_average_opr_dict = pd.DataFrame.from_dict(ranked_average_opr_dict, orient = \"index\")\n",
    "pretty_ranked_average_opr_dict.columns = [\"Team Number\", \"Team Name\", \"Average OPR\", \"Final Placement\", \"OPR Rank\"]\n",
    "print(pretty_ranked_average_opr_dict)"
   ],
   "outputs": [
    {
     "name": "stdout",
     "output_type": "stream",
     "text": [
      "   Team Number                                          Team Name  \\\n",
      "1        15534                                             VERTEX   \n",
      "2        18225                                    High Definition   \n",
      "3        14361                               CPHS ROBOLOBOS GREEN   \n",
      "4        14023                   SCHS Robotic Team - Phoenix Fire   \n",
      "5        18492                              Mukhtar Robotics Team   \n",
      "6        14212                                        Metrobotics   \n",
      "7        19824                                     Pride Robotics   \n",
      "8        19502                                  The Moment Makers   \n",
      "9        22508                                          SUPERNOVA   \n",
      "10       12887                                      Devolt Phobos   \n",
      "11       18763                                            Texpand   \n",
      "12       14140                                         Crash Test   \n",
      "13       18317                                         Steel Eels   \n",
      "14        9415                                    Wrench Dressing   \n",
      "15       16417                                                ROC   \n",
      "16       13181                                          Free WiFi   \n",
      "17       22222  Dominican Republic Incredible FIRST Team (Team...   \n",
      "18       22509                                   CKK-ROBOT Senior   \n",
      "19       14503                                       Robo Sapiens   \n",
      "20       23114                                              Sabah   \n",
      "21        6272                                  Iron Eagles Prime   \n",
      "22        7129                                       Robo Raiders   \n",
      "23       15342                                              Aries   \n",
      "24        3409                                         Astromechs   \n",
      "25        6165                                    MSET CuttleFish   \n",
      "26         207                                      Critical Mass   \n",
      "27       16410                                         GentleBotz   \n",
      "28       19411                                        Tech Tigers   \n",
      "29       17080                                           NewT.exe   \n",
      "30       18527                                     PCM Alchemists   \n",
      "31       17962                                              Ro2D2   \n",
      "32       10477                                       Rapid Robots   \n",
      "33        9879                                  Root Negative One   \n",
      "34         724                                RedNek Robotics Wun   \n",
      "35       16671                              Northville Broncobots   \n",
      "36       19366                                                CTF   \n",
      "37       11260                                Up-A-Creek Robotics   \n",
      "38       15173                                     Robotic Eagles   \n",
      "39        6899                                          Blue Bots   \n",
      "40        3189                      Rapid Unscheduled Disassembly   \n",
      "41        6133                                        The \"NUTS!\"   \n",
      "42       11770                                          Curiosity   \n",
      "43       19889                                       Robo-Sapiens   \n",
      "44       14380                                   Blue BotBuilders   \n",
      "45        5741                                      CVU RoboHawks   \n",
      "46        7242                                        BC Robocats   \n",
      "47       10949                       Mechanical Operations Bureau   \n",
      "48       11468                                        Ohm Raiders   \n",
      "\n",
      "    Average OPR Final Placement  OPR Rank  \n",
      "1    -56.090909               3         1  \n",
      "2    -58.081818               5         2  \n",
      "3    -60.809091               1         3  \n",
      "4    -63.045455              24         4  \n",
      "5    -63.609091              38         5  \n",
      "6    -68.500000               9         6  \n",
      "7    -69.072727              30         7  \n",
      "8    -69.563636               7         8  \n",
      "9    -71.018182               6         9  \n",
      "10   -73.990909              16        10  \n",
      "11   -75.109091              22        11  \n",
      "12   -77.054545              13        12  \n",
      "13   -77.472727              10        13  \n",
      "14   -77.545455              17        14  \n",
      "15   -77.963636              25        15  \n",
      "16   -78.127273              32        16  \n",
      "17   -80.590909              35        17  \n",
      "18   -82.118182              14        18  \n",
      "19   -82.336364               8        19  \n",
      "20   -84.418182              46        20  \n",
      "21   -84.527273               4        21  \n",
      "22   -84.800000              43        22  \n",
      "23   -86.163636              36        23  \n",
      "24   -87.509091              37        24  \n",
      "25   -87.563636              26        25  \n",
      "26   -87.572727              15        26  \n",
      "27   -88.581818              23        27  \n",
      "28   -89.090909              45        28  \n",
      "29   -89.227273              27        29  \n",
      "30   -91.963636              18        30  \n",
      "31   -92.318182              11        31  \n",
      "32   -92.445455              29        32  \n",
      "33   -92.627273              19        33  \n",
      "34   -94.081818              34        34  \n",
      "35   -94.127273              21        35  \n",
      "36   -94.245455              47        36  \n",
      "37   -95.645455               2        37  \n",
      "38   -95.690909              40        38  \n",
      "39   -99.736364              44        39  \n",
      "40  -101.827273              31        40  \n",
      "41  -102.236364              12        41  \n",
      "42  -104.700000              20        42  \n",
      "43  -105.336364              39        43  \n",
      "44  -105.863636              41        44  \n",
      "45  -107.081818              48        45  \n",
      "46  -109.881818              33        46  \n",
      "47  -112.800000              28        47  \n",
      "48  -114.736364              42        48  \n"
     ]
    }
   ],
   "execution_count": 10
  },
  {
   "metadata": {
    "ExecuteTime": {
     "end_time": "2025-08-05T17:59:41.541277Z",
     "start_time": "2025-08-05T17:59:40.232821Z"
    }
   },
   "cell_type": "code",
   "source": [
    "# Plotting Data\n",
    "team_number = pretty_ranked_average_opr_dict[\"Team Number\"]\n",
    "final_placement = pretty_ranked_average_opr_dict[\"Final Placement\"].astype(int)\n",
    "opr_rank = pretty_ranked_average_opr_dict[\"OPR Rank\"].astype(int)\n",
    "array = np.arange(len(team_number))\n",
    "size = 0.4\n",
    "fig = plt.figure(figsize=(10, 6))\n",
    "ax = fig.add_subplot(111)\n",
    "ax.bar(array - size/2, opr_rank, size, label = \"OPR Rank\")\n",
    "ax.bar(array + size/2, final_placement, size, label = \"Final Rank\")\n",
    "plt.xticks(array, team_number, rotation=90)\n",
    "plt.ylabel(\"Rank\")\n",
    "plt.xlabel(\"Team Number\")\n",
    "plt.legend()\n",
    "plt.title(\"OPR Rank and Final Rank by Team Number\")"
   ],
   "id": "117bf76900397e0e",
   "outputs": [
    {
     "data": {
      "text/plain": [
       "Text(0.5, 1.0, 'OPR Rank and Final Rank by Team Number')"
      ]
     },
     "execution_count": 11,
     "metadata": {},
     "output_type": "execute_result"
    },
    {
     "data": {
      "text/plain": [
       "<Figure size 1000x600 with 1 Axes>"
      ],
      "image/png": "[encoded data removed]"
     },
     "metadata": {},
     "output_type": "display_data"
    }
   ],
   "execution_count": 11
  },
  {
   "metadata": {
    "ExecuteTime": {
     "end_time": "2025-08-05T17:59:41.688726Z",
     "start_time": "2025-08-05T17:59:41.675679Z"
    }
   },
   "cell_type": "code",
   "source": [
    "# Correlation\n",
    "average_opr = pretty_ranked_average_opr_dict[\"Average OPR\"]\n",
    "X = average_opr.to_numpy()\n",
    "X = X.flatten()\n",
    "y = final_placement.to_numpy()\n",
    "y = y.flatten()\n",
    "correlation = np.corrcoef(X, y)[0, 1]\n",
    "print(f\"Correlation: {correlation}\")"
   ],
   "id": "ab3601909dd02b31",
   "outputs": [
    {
     "name": "stdout",
     "output_type": "stream",
     "text": [
      "Correlation: -0.4886675766444241\n"
     ]
    }
   ],
   "execution_count": 12
  }
 ],
 "metadata": {
  "kernelspec": {
   "display_name": "Python 3 (ipykernel)",
   "language": "python",
   "name": "python3"
  },
  "language_info": {
   "codemirror_mode": {
    "name": "ipython",
    "version": 3
   },
   "file_extension": ".py",
   "mimetype": "text/x-python",
   "name": "python",
   "nbconvert_exporter": "python",
   "pygments_lexer": "ipython3",
   "version": "3.11.4"
  }
 },
 "nbformat": 4,
 "nbformat_minor": 5
}
